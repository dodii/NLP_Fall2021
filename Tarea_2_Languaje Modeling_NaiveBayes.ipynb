{
  "nbformat": 4,
  "nbformat_minor": 0,
  "metadata": {
    "colab": {
      "name": "Copia de Tarea 2 - Language Modeling y Naïve Bayes.ipynb",
      "provenance": [],
      "collapsed_sections": [],
      "toc_visible": true
    },
    "kernelspec": {
      "name": "python3",
      "display_name": "Python 3"
    }
  },
  "cells": [
    {
      "cell_type": "markdown",
      "metadata": {
        "id": "2obO44rRIDIm"
      },
      "source": [
        "# **Tarea 2 - CC6205 Natural Language Processing 📚**\n",
        "\n",
        "**Integrantes: Vicente Ardiles S. y Rodrigo González O.**\n",
        "\n",
        "**Fecha límite de entrega 📆:** Lunes 03 de mayo.\n",
        "\n",
        "**Tiempo estimado de dedicación: 15hrs**"
      ]
    },
    {
      "cell_type": "markdown",
      "metadata": {
        "id": "Zpupcv6QW2fd"
      },
      "source": [
        "Bienvenid@s a la segunda tarea del curso de Natural Language Processing (NLP). En esta tarea estaremos modelando probabilísticamente el lenguaje mediante **Languaje Modeling** y clasificando textos mediante el método **Naïve Bayes**. Específicamente, la tarea consta de una parte teórica que busca evaluar conceptos vistos en clases sobre los **Language Models** y una parte práctica donde **programarán a mano** el método **Naïve Bayes**. \n",
        "\n",
        "**Instrucciones:**\n",
        "- La tarea se realiza en grupos de **máximo** 2 personas. Puede ser invidivual pero no es recomendable.\n",
        "- La entrega es a través de u-cursos a más tardar el día estipulado arriba. No se aceptan atrasos.\n",
        "- El formato de entrega es este mismo Jupyter Notebook.\n",
        "- Al momento de la revisión tu código será ejecutado. Por favor verifica que tu entrega no tenga errores de compilación. \n",
        "- Está **PROHIBIDO** usar cualquier librería que implemente los algoritmos pedidos (Spacy, scikit, etc). Sólo se podrán utilizar las librerías importadas al inicio de la sección de práctica.\n",
        "- En el horario de auxiliar pueden realizar consultas acerca de la tarea a través del canal de Discord del curso.\n",
        "\n",
        "Si aún no han visto las clases, se recomienda visitar los links de las referencias.\n",
        "\n",
        "**Referencias:**\n",
        "\n",
        "Slides:\n",
        "    \n",
        "- [Language Models](http://www.cs.columbia.edu/~mcollins/cs4705-spring2019/slides/lmslides.pdf) (slides by Michael Collins)\n",
        "- [Text Classification and Naive Bayes](https://web.stanford.edu/~jurafsky/slp3/slides/7_NB.pdf) (slides by Dan Jurafsky)\n",
        "\n",
        "Videos: \n",
        "\n",
        "- [CC6205 - Procesamiento de Lenguaje Natural: Language Models parte 1](https://www.youtube.com/watch?v=9E2jJ6kcb4Y&list=PLppKo85eGXiXIh54H_qz48yHPHeNVJqBi&index=4)\n",
        "- [CC6205 - Procesamiento de Lenguaje Natural: Language Models parte 2](https://www.youtube.com/watch?v=ZWqbEQXLra0&list=PLppKo85eGXiXIh54H_qz48yHPHeNVJqBi&index=5)\n",
        "- [CC6205 - Procesamiento de Lenguaje Natural: Language Models parte 3](https://www.youtube.com/watch?v=tsumFqwFlaA&list=PLppKo85eGXiXIh54H_qz48yHPHeNVJqBi&index=6)\n",
        "- [CC6205 - Procesamiento de Lenguaje Natural: Language Models parte 4](https://www.youtube.com/watch?v=s3TWdv4sqkg&list=PLppKo85eGXiXIh54H_qz48yHPHeNVJqBi&index=7)\n",
        "- [CC6205 - Procesamiento de Lenguaje Natural: Naive Bayes Parte 1](https://www.youtube.com/watch?v=kG9BK9Oy1hU)\n",
        "- [CC6205 - Procesamiento de Lenguaje Natural: Naive Bayes Parte 2](https://www.youtube.com/watch?v=Iqte5kKHvzE)\n",
        "- [CC6205 - Procesamiento de Lenguaje Natural: Naive Bayes Parte 3](https://www.youtube.com/watch?v=TSJg0_X3Abk)\n",
        "\n",
        "` ` "
      ]
    },
    {
      "cell_type": "markdown",
      "metadata": {
        "id": "JstKx3TiKcIp"
      },
      "source": [
        "---------------------------\n",
        "## Parte 1. Language Modeling (3 pts)\n",
        "\n",
        "En esta parte responderán preguntas **teóricas** sobre los Lenguage Models. Para comprender como funcionan muchas de las técnicas que veremos posteriormente durante el curso será muy útil que dominen estos modelos y sus fundamentos.\n",
        "\n",
        "Recuerden que los **Lenguage Models** básicamente nos permiten, dado un corpus, estimar un modelo probabilista al que le podemos pasar una oración y determinar que tan probable es que esa oración haya sido generada. Para esto, tenemos que un modelo de $n$-gramas puede ser definido por una *cadena de Márkov* de orden $n-1$.\n",
        "\n",
        "En clases vimos los modelos basados en unigramas, bigramas y trigramas. En esta pregunta trabajaremos con modelos de lenguaje basados en 4-gramas (*cadena de Márkov* de tercer orden).\n",
        "\n",
        "**Nota:** Las preguntas deben ser resueltas con desarrollo, pero sin código. Por favor usen $\\LaTeX$ para las fórmulas."
      ]
    },
    {
      "cell_type": "markdown",
      "metadata": {
        "id": "2hwW-07MrRpt"
      },
      "source": [
        "\n",
        "### 1.1. (1 pt)\n",
        "\n",
        "Asuma que tenemos calculados los parámetros $q(w_i | w_{i-3}, w_{i-2}, w_{i-1})$ para todas las posibles secuencias de tamaño 4 que aparecen en un corpus $\\mathcal{C}$. Dado esto, muestre cómo el modelo le asignaría una probabilidad a la frase `una persona corriendo rápido`"
      ]
    },
    {
      "cell_type": "markdown",
      "metadata": {
        "id": "YzlQDAVqWNdX"
      },
      "source": [
        "` ` \n",
        "\n",
        "**Respuesta:** \n",
        "\n",
        "- \n",
        "\\begin{equation}\n",
        "  w_i \\in V \\cup \\{STOP\\} \\\\\n",
        "\\end{equation}\n",
        "- \n",
        "\\begin{equation}\n",
        "  w_{i-3}, w_{i-2}, w_{i-1} \\in V \\cup \\{*\\} \\\\\n",
        "\\end{equation}\n",
        "- Sea:\n",
        "\\begin{equation}\n",
        "  w_i = rápido, \\ w_{i-3}=una, \\ w_{i-2}=persona, \\ w_{i-1}=corriendo \\\\\n",
        "\\end{equation}\n",
        "- El modelo asignaría la probabilidad de la siguiente manera: \n",
        "\\begin{equation}\n",
        " p(una \\ persona \\ corriendo \\ rápido) = q(una|*,*,*) \\\\ \\times q(persona|*,*,una) \\\\ \\times q(corriendo|*,una,persona) \\\\ \\times q(rápido|una,persona,corriendo)\n",
        "\\end{equation}\n",
        "\n",
        "Con V el vocabulario, STOP el símbolo final y * el símbolo para los valores que anteceden el inicio.\n",
        "` `"
      ]
    },
    {
      "cell_type": "markdown",
      "metadata": {
        "id": "lAej_jqtVwm1"
      },
      "source": [
        "### 1.2 Estimando las probabilidades (1 pt)"
      ]
    },
    {
      "cell_type": "markdown",
      "metadata": {
        "id": "gXSFlCIex8kq"
      },
      "source": [
        "#### 1.2.1. Modelo simple (0.5 pt)\n",
        "\n",
        "Si hubieses tenido que estimar las probabilidades condicionales (parámetros del modelo) $q(w_i | w_{i-3}, w_{i-2}, w_{i-1})$ a partir de $\\mathcal{C}$, ¿cómo la definirías siguiendo el principio de máxima verosimilitud?"
      ]
    },
    {
      "cell_type": "markdown",
      "metadata": {
        "id": "RjNisxPzWsMG"
      },
      "source": [
        "` ` \n",
        "\n",
        "**Respuesta:** \n",
        "La fórmula para 4-gramas en base al principio de máxima verosimilitud es la siguiente:\n",
        "\n",
        "- \n",
        "\\begin{equation}\n",
        "q_{ML}(w_i|w_{i-3},w_{i-2},w_{i-1}) = \\frac{Count(w_{i-3},w_{i-2},w_{i-1},w_{i})}{Count(w_{i-3},w_{i-2},w_{i-1})}\n",
        "\\end{equation}\n",
        "\n",
        "Aplicada a cada término:\n",
        "\n",
        "- \n",
        "\\begin{equation}\n",
        "q_{ML}(una|*,*,*) = \\frac{Count(*,*,*,una)}{Count(*,*,*)}\n",
        "\\end{equation}\n",
        "\n",
        "- \n",
        "\\begin{equation}\n",
        "q_{ML}(persona|*,*,una) = \\frac{Count(*,*,una,persona)}{Count(*,*,una)}\n",
        "\\end{equation}\n",
        "\n",
        "- \n",
        "\\begin{equation}\n",
        "q_{ML}(corriendo|*,una,persona) = \\frac{Count(*,una,persona,corriendo)}{Count(*,una,persona)}\n",
        "\\end{equation}\n",
        "\n",
        "- \n",
        "\\begin{equation}\n",
        "q_{ML}(rápido|una,persona,corriendo) = \\frac{Count(una,persona,corriendo,rápido)}{Count(una,persona,corriendo)}\n",
        "\\end{equation}\n",
        "\n",
        "donde se tienen\n",
        "\\begin{equation}\n",
        "  |V|^{4} = N^{4}\n",
        "\\end{equation}\n",
        "parámetros en el modelo.\n",
        "\n",
        "` `"
      ]
    },
    {
      "cell_type": "markdown",
      "metadata": {
        "id": "bwNkPIXure0C"
      },
      "source": [
        "#### 1.2.2. Modelo interpolado (0.5 pt)\n",
        "Muestre cómo se calcularía $q(w_{i} | w_{i-3}, w_{i-2}, w_{i-1})$ usando un modelo que interpola modelos de lenguajes basados en 4-grams, trigramas, bigramas y unigramas. ¿Te fue necesario definir nuevos parámetros? En caso afirmativo, ¿qué los diferencia de los parámetros del modelo simple y qué propiedades deben cumplir?"
      ]
    },
    {
      "cell_type": "markdown",
      "metadata": {
        "id": "zeLZAd0Tr9ne"
      },
      "source": [
        "` ` \n",
        "\n",
        "**Respuesta:** \n",
        "\n",
        "Para calcular el valor q(...) de 4-gramas con el modelo pedido, se debe formular lo siguiente:\n",
        "\n",
        "- \n",
        "\\begin{equation}\n",
        "  q(w_i|w_{i-3},w_{i-2},w_{i-1}) = \\lambda_{1} \\times q_{ML}(w_i|w_{i-3},w_{i-2},w_{i-1}) \\\\ + \\lambda_{2} \\times q_{ML}(w_i|w_{i-2},w_{i-1}) \\\\ + \\lambda_{3} \\times q_{ML}(w_i|w_{i-1}) + \\\\ \\lambda_{4} \\times q_{ML}(w_i)\n",
        "\\end{equation}\n",
        "\n",
        "donde cada sumando corresponde con un n-grama (en este caso, 3, 2 y 1 gramas). Se definen de la siguiente manera:\n",
        "\n",
        "- Tri-grama:\n",
        "\\begin{equation}\n",
        "  q_{ML}(w_i|w_{i-2},w_{i-1}) = \\frac{Count(w_{i-2},w_{i-1},w_i)}{Count(w_{i-2},w_{i-1})}\n",
        "\\end{equation}\n",
        "- Bi-grama:\n",
        "\\begin{equation}\n",
        "  q_{ML}(w_i|w_{i-1}) = \\frac{Count(w_{i-1},w_i)}{Count(w_{i-1})}\n",
        "\\end{equation}\n",
        "- Uni-grama:\n",
        "\\begin{equation}\n",
        "  q_{ML}(w_i) = \\frac{Count(w_i)}{Count()}\n",
        "\\end{equation}\n",
        "\n",
        "A esto se le añaden los parámetros lambda, con:\n",
        "\\begin{equation}\n",
        "  \\lambda_{1} + \\lambda_{2} + \\lambda_{3} + \\lambda_{4} = 1, \\ \\lambda_{i} > 1 \\ \\forall i \\in \\{1,2,3,4\\}\n",
        "\\end{equation}\n",
        "\n",
        "Las sumas y ponderaciones anteriores siguen cumpliendo con los requisitos para ser una distribución de probabilidad. Fue necesario definir nuevos parámetros, siendo diferente al modelo simple en que los valores lambdas deben ser estimados en función de un conjunto de validación arbitrario, menor en tamaño al conjunto original. Los valores lambda pueden variar dependiendo de cómo se lleve a cabo el cálculo. Por ejemplo, lambda puede ser estimado tomando en cuenta una función $\\Pi(w_{i-3},w_{i-2},w_{i-1})$ que particione la frase, donde se puede asignar, por ejemplo, un exponente a cada lambda igual al resultado de $\\Pi$. En concreto, una asignación puede ser como la siguiente: \n",
        "\\begin{equation}\n",
        "  Pi(w_{i-3},w_{i-2},w_{i-1}) = \n",
        "  \\begin{cases}\n",
        "    1, & \\text{if} \\ Count(w_{i-1},w_{i-2},w_{i-3}) = 0\\\\ \n",
        "  2, & \\text{if} \\ 1 \\leq Count(w_{i-1},w_{i-2},w_{i-3}) \\leq  2\\\\\n",
        "    3, & \\text{if} \\ 3 \\leq Count(w_{i-1},w_{i-2},w_{i-3}) \\leq  5 \\\\\n",
        "    4, & \\text{Otherwise}\\\\\n",
        "  \\end{cases}\n",
        "\\end{equation}\n",
        "Similar al ejemplo de las diapositivas en clase.\n",
        "Como se mencionó anteriormente, una diferencia sustancial entre el modelo simple y el modelo interpolado es la variación en el cálculo de éste último depediendo de los valores que tomen los $\\lambda_{i}$, contrario a los valores exactamente definidos para los $q_{ML}(...)$ en el modelo simple. \n",
        "` `"
      ]
    },
    {
      "cell_type": "markdown",
      "metadata": {
        "id": "sHqcRJ7Vr_8x"
      },
      "source": [
        "### 1.3. (1 pt)\n",
        "¿Qué ventajas tiene el modelo interpolado sobre el modelo de 4-gramas simple?"
      ]
    },
    {
      "cell_type": "markdown",
      "metadata": {
        "id": "6F5R3Ji7sHjt"
      },
      "source": [
        "` ` \n",
        "\n",
        "**Respuesta:** \n",
        "\n",
        "El modelo interpolado tiene la ventaja de poder ajustar los valores $\\lambda_{i}$ que ponderan los $q_{ML}(...)$, permitiendo modificar el resultado de la probabilidad en los casos que sea conveniente. Dado que la interpolación lineal es una técnica de estimación, es de suma utilidad que el modelo permita realizar dichas modificaciones de manera arbirtraria, con el fin de encontrar la configuración más adeucada para modelar el lenguaje en cuestión.\n",
        "\n",
        "Si bien el modelo simple cumple con lo establecido en un comienzo (por ejemplo, ser una distribución de probabilidad), la dispersión de los datos a analizar puede llegar a ser muy grande a medida que aumenta el tamaño de parámetros (recordar que $|V|^{n} = N^{n}$ calcula tal cantidad), pudiendo sesgar distintas frases en base al valor de Count(...) por calcular. Esto es corregido, en cierta medida, con el modelo interpolado, y tomando en cuenta lo escrito sobre éste en el primer párrafo, se concluye que dicho sesgo puede ser manejado de mejor manera con interpolación lineal en comparación a lo propuesto en el modelo simple en casos con muchos parámetros.\n",
        "\n",
        "` ` "
      ]
    },
    {
      "cell_type": "markdown",
      "metadata": {
        "id": "rdmB-07ZKfaa"
      },
      "source": [
        "-----------------------\n",
        "## Parte 2. Naïve Bayes (3 pts)\n",
        "En esta parte programaremos nuestro primer clasificador de documentos. Para esto implementaremos el método **Naïve Bayes Multinomial** usando **Laplace Smothing**.\n",
        "\n",
        "Por favor, documenten su código. Escriban que hacen las funciones, que reciben, que entregan, etc. Si en algún lugar de su código hacen algo que creen que debe ser explicado, lox comentarios son bienvenidos.\n",
        "\n"
      ]
    },
    {
      "cell_type": "markdown",
      "metadata": {
        "id": "PpjjKnJUvRiA"
      },
      "source": [
        "### 2.1. Clase para clasificador (0.5 pt)\n",
        "\n",
        "Programa una clase `MyMultinomialNB` que en su inicializador reciba el parametro de generalización `alpha`.\n",
        "\n",
        "```python\n",
        "class MyMultinomialNB(BaseEstimator, ClassifierMixin):\n",
        "  def __init__(self, ...):\n",
        "    ...\n",
        "```\n",
        "\n",
        "Para más informacion sobre la construcción de esta clase puedes revisar [aquí](https://sklearn-template.readthedocs.io/en/latest/user_guide.html#classifier) \n",
        "\n",
        "Una llamada de ejemplo para crear un objeto de tu clase sería:\n",
        "```python\n",
        "my_clf = MyMultinomialNB(alpha=1)\n",
        "``` \n",
        "lo que debiera crear un clasificador con parámetro `alpha` igual a 1."
      ]
    },
    {
      "cell_type": "markdown",
      "metadata": {
        "id": "ROG50eH0xfxO"
      },
      "source": [
        "### 2.2. Entrenamiento del clasificador (1 pt)\n",
        "\n",
        "Programa el entrenamiento de tu clasificador en el método `fit` de la clase `MyMultinomialNB`. La función debiera recibir el parámetro X que es un `DataFrame` de `pandas` con las columnas `words` y `class_`, donde `words` es una tupla con las palabras asociadas al cada documento y `class_` es el identificador de la clase a la que pertenece cada documento.\n",
        "\n",
        "Para computar el entrenamiento de nuestro clasificador debemos: \n",
        "- extraer el vocabulario,\n",
        "- determinar las probabilidades $p(c_j)$ para cada una de las clases posibles, \n",
        "- determinar las probabilidades $p(w_i|c_j)$ para cada una de las palabras y cada una de las clases usando **Laplace Smothing**.\n",
        "\n",
        "El resultado del metodo `fit` será la misma instancia de nuestro clasificador `self`.\n",
        "\n",
        "```python\n",
        "class MyMultinomialNB(BaseEstimator, ClassifierMixin):\n",
        "  def __init__(self, ...):\n",
        "    ...\n",
        "\n",
        "  def fit(self, X):\n",
        "    ...\n",
        "    return self\n",
        "```\n",
        "\n",
        "**Underflow prevention:** En vez de hacer muchas multiplicacions de `float`s, reemplácenlas por sumas de logaritmos para prevenir errores de precisión. Revisen la diapo 69 de las slides. "
      ]
    },
    {
      "cell_type": "markdown",
      "metadata": {
        "id": "FNouTCmR2FgY"
      },
      "source": [
        "### 2.3. Predicción (1 pt)\n",
        "\n",
        "Programa la predicción de tu clasificador en el método `predict` de la clase `MyMultinomialNB`. Al igual que la función `fit`, `predict` debe recibir un `DataFrame` X con valores `None` en la columna `class_` y devolver una lista con las clases que maximizan la probabilidad de Bayes para cada uno de los elmentos de X (filas)."
      ]
    },
    {
      "cell_type": "markdown",
      "metadata": {
        "id": "8wyhFWeLgYDI"
      },
      "source": [
        "### Implementación 2.1, 2.2 y 2.3 (2.5 pt)"
      ]
    },
    {
      "cell_type": "code",
      "metadata": {
        "id": "AEFW8ikNvfJU"
      },
      "source": [
        "import numpy as np\n",
        "import pandas as pd\n",
        "from sklearn.feature_extraction.text import CountVectorizer\n",
        "\n",
        "# Funcion que transforma los documentos con las palabras en tuplas de un dataset X\n",
        "# a un nuevo dataset con los documentos en el formato usual.\n",
        "#\n",
        "# Esto fue hecho porque nos olvidamos que los las palabras del documento venian\n",
        "# como tuplas y aplicamos un adapter para que lo que habiamos hecho anteriormente\n",
        "# funcioanra\n",
        "def adapter(X):\n",
        "    copia = X.copy()\n",
        "    copia['words'] = copia['words'].apply(lambda x: ' '.join(x))\n",
        "    return copia\n",
        "\n",
        "def vocabulario(X):\n",
        "    X_adapter = adapter(X)\n",
        "    v = CountVectorizer()\n",
        "    X = v.fit_transform(X_adapter.words)\n",
        "    return v.get_feature_names()\n",
        "\n",
        "# list(str) -> dict\n",
        "# Calcula la probabilidad de cada clase y lo entrega en formato dict\n",
        "def pClase(dataset):\n",
        "    class_count = dataset.class_.value_counts()\n",
        "    casos_totales = dataset.shape[0]\n",
        "    return class_count.apply(lambda x : x/casos_totales)\n",
        "\n",
        "# Calcula la probabilidad de cada palabra del vocabulario dada una clase\n",
        "#\n",
        "# tuple_trail : Dataset de entrenamiento\n",
        "# clases: Clases del dataset de entrenamiento\n",
        "# vocabulario\n",
        "def pPalabras(tuple_train, clases, vocabulario):\n",
        "    X_train = adapter(tuple_train)\n",
        "    # Cardinalidad del vocabulario global\n",
        "    V = len(vocabulario)\n",
        "\n",
        "    p = {}\n",
        "    # BoW de todos los documentos\n",
        "    vec_global = CountVectorizer() \n",
        "    X_global_bow = vec_global.fit_transform(X_train.words)\n",
        "\n",
        "    #Vocabulario de todos los documentos\n",
        "    X_global_vocab = vec_global.get_feature_names()\n",
        "    \n",
        "    for clase in clases:\n",
        "      # Filtro el dataset de entrenamiento por clase\n",
        "      dataset = X_train[X_train['class_'] == clase]\n",
        "      # Hago el gran documento y construyo el BoW\n",
        "      words = dataset.words.to_numpy()  \n",
        "      gran_documento = ' '.join(words)\n",
        "      d = {'words': gran_documento, 'class_': [clase]}\n",
        "      df = pd.DataFrame(data=d)\n",
        "\n",
        "      # BoW del documento grande\n",
        "      vec2 = CountVectorizer(vocabulary=X_global_vocab) \n",
        "      X = vec2.fit_transform(df.words)\n",
        "      x_array = X.toarray()\n",
        "\n",
        "      # Suma total de apariciones de cada palabra\n",
        "      sum = np.sum(x_array)\n",
        "      # Una Serie para aplicar el calculo de la probabilidad con Laplace Smothing\n",
        "      ser = pd.Series(data=x_array[0], index=X_global_vocab)\n",
        "      ser = ser.apply(lambda x: (x+1)/(sum + V))\n",
        "      p[clase] = ser.to_dict()\n",
        "    return p"
      ],
      "execution_count": 109,
      "outputs": []
    },
    {
      "cell_type": "code",
      "metadata": {
        "id": "DYFEgTyw2ELL"
      },
      "source": [
        "# Acá implementarán las preguntas 2.1, 2.2 y 2.3,\n",
        "# tu código debiera comenzar así\n",
        "\n",
        "# importamos algunos paquetes necesarios, puede que necesites otros\n",
        "import numpy as np\n",
        "import pandas as pd\n",
        "from sklearn.base import BaseEstimator, ClassifierMixin\n",
        "from sklearn.utils.validation import check_is_fitted\n",
        "from sklearn.feature_extraction.text import CountVectorizer\n",
        "\n",
        "class MyMultinomialNB(BaseEstimator, ClassifierMixin):\n",
        "  def __init__(self, alpha=1.0):\n",
        "    # acá tu código para inicializar el clasificador\n",
        "    self.alpha = alpha\n",
        "\n",
        "  def fit(self, X):\n",
        "    # acá tu código para el entrenamiento del modelo\n",
        "    # Clases de X\n",
        "    self.classes_ = np.unique(X[\"class_\"].values)\n",
        "    # Vocabulario de X\n",
        "    self.vocab = vocabulario(X)\n",
        "    # Probabilidad de las clases\n",
        "    self.pC = pClase(X)\n",
        "    # Probabilidades de las palabras dada una clase\n",
        "    self.pWc = pPalabras(X, self.classes_, self.vocab)\n",
        "    return self\n",
        "\n",
        "  def predict(self, X):\n",
        "    # Chequea que fit ha sido ejecutado anteriormente\n",
        "    check_is_fitted(self)\n",
        "    # acá tu código para computar la predicción\n",
        "    x_adapter = adapter(X)\n",
        "\n",
        "    # BoW del dataset de testeo\n",
        "    vec = CountVectorizer()\n",
        "    data = vec.fit_transform(x_adapter.words)\n",
        "    vocab = vec.get_feature_names()\n",
        "\n",
        "    # Cardinalidad del vocabulario\n",
        "    len_V = len(self.vocab)\n",
        "    prediction = []\n",
        "\n",
        "    # Por cada conteo de palabra en cada documento busco su probabilidad\n",
        "    # dada una clase y lo almaceno.\n",
        "    for d in data.toarray():\n",
        "        c_i_list = [] \n",
        "        for clase in self.classes_:\n",
        "            probabilidades = []\n",
        "            for i in range(len(vocab)):\n",
        "                palabra = vocab[i]\n",
        "                apariciones = d[i]\n",
        "                if apariciones != 0 and (palabra in self.pWc[clase]):\n",
        "                    for n in range(apariciones):\n",
        "                        probabilidad_palabra = self.pWc[clase][palabra]\n",
        "                        probabilidades.append(probabilidad_palabra) \n",
        "            probabilidades = np.log(probabilidades)\n",
        "            suma = np.sum(probabilidades)\n",
        "            c_i = np.log(self.pC[clase]) + suma\n",
        "            c_i_list.append(c_i)\n",
        "        # Calculo la clase con mayor C y la guardo en prediction\n",
        "        mejor_clase = self.classes_[c_i_list.index(max(c_i_list))]\n",
        "        prediction.append(mejor_clase)\n",
        "    return prediction"
      ],
      "execution_count": 110,
      "outputs": []
    },
    {
      "cell_type": "markdown",
      "metadata": {
        "id": "_KOMJ-CS8PRP"
      },
      "source": [
        "### 2.4. Probando el clasificador (0.5 pt)"
      ]
    },
    {
      "cell_type": "markdown",
      "metadata": {
        "id": "hucdz-R7xerG"
      },
      "source": [
        "A continuación probarán el funcionamiento de su clasificador. Para esto, les presentamos un conjunto de documentos de entrenamiento `train_set` divididos en 2 categorias distintas. Ustedes deberán primero entrenar su clasificador usando el método `fit` de su clase y luego, clasificar los documentos del conjunto de prueva `test_set` usando el método `predict`.\n",
        "\n",
        "**NOTA:** Como pueden ver, los objetos `namedtuple`s tienen dos atributos: `words` donde están las palabras del documento y `class_` donde se guarda la clase de ese documento. Estos objetos son inmutables, lo que quiere decir que si quieren modificar un documento y cambiarle la clase, tienen que crear otro documento. Otra cosa es que son tuplas como cualquier otra, es decir se pueden acceder usando indices como `doc[0]` o `doc[1]`."
      ]
    },
    {
      "cell_type": "code",
      "metadata": {
        "id": "HLi8PxdV2VQX",
        "colab": {
          "base_uri": "https://localhost:8080/"
        },
        "outputId": "d40c4713-fa40-4e62-9fd1-aba7abe645bb"
      },
      "source": [
        "import pandas as pd\n",
        "\n",
        "from collections import namedtuple\n",
        "document = namedtuple(\n",
        "    \"document\", (\"words\", \"class_\")  # avoid python's keyword collision\n",
        ")\n",
        "\n",
        "train_set = (\n",
        "    document(words=('w03', 'w01', 'w02', 'w06', 'w02', 'w08', 'w07'), class_=0),\n",
        "    document(words=('w05', 'w04', 'w00', 'w06', 'w09', 'w07', 'w06', 'w09', 'w05'), class_=1),\n",
        "    document(words=('w07', 'w06', 'w00', 'w08', 'w01', 'w08', 'w08', 'w09', 'w02'), class_=0),\n",
        "    document(words=('w08', 'w09', 'w02', 'w06', 'w05', 'w08', 'w07'), class_=1),\n",
        "    document(words=('w09', 'w08', 'w05', 'w08', 'w05', 'w00', 'w08'), class_=1),\n",
        "    document(words=('w05', 'w05', 'w06', 'w01', 'w06', 'w08', 'w02'), class_=1),\n",
        "    document(words=('w04', 'w03', 'w07', 'w05', 'w04', 'w00', 'w02'), class_=0),\n",
        "    document(words=('w01', 'w00', 'w01', 'w04', 'w09', 'w02', 'w04', 'w07'), class_=1)\n",
        ")\n",
        "X_train = pd.DataFrame(data=train_set)\n",
        "print(\"Documentos de entrenamiento\")\n",
        "print(X_train)\n",
        "\n",
        "test_set = (document(words=('w02', 'w09', 'w06', 'w01', 'w05', 'w04', 'w03', 'w03'), class_=None),\n",
        "            document(words=('w03', 'w03', 'w04', 'w05', 'w01', 'w06', 'w09', 'w02'), class_=None))\n",
        "X_test = pd.DataFrame(data=test_set)\n",
        "print(\"\\nDocumentos de prueba:\")\n",
        "print(X_test)"
      ],
      "execution_count": 111,
      "outputs": [
        {
          "output_type": "stream",
          "text": [
            "Documentos de entrenamiento\n",
            "                                           words  class_\n",
            "0            (w03, w01, w02, w06, w02, w08, w07)       0\n",
            "1  (w05, w04, w00, w06, w09, w07, w06, w09, w05)       1\n",
            "2  (w07, w06, w00, w08, w01, w08, w08, w09, w02)       0\n",
            "3            (w08, w09, w02, w06, w05, w08, w07)       1\n",
            "4            (w09, w08, w05, w08, w05, w00, w08)       1\n",
            "5            (w05, w05, w06, w01, w06, w08, w02)       1\n",
            "6            (w04, w03, w07, w05, w04, w00, w02)       0\n",
            "7       (w01, w00, w01, w04, w09, w02, w04, w07)       1\n",
            "\n",
            "Documentos de prueba:\n",
            "                                      words class_\n",
            "0  (w02, w09, w06, w01, w05, w04, w03, w03)   None\n",
            "1  (w03, w03, w04, w05, w01, w06, w09, w02)   None\n"
          ],
          "name": "stdout"
        }
      ]
    },
    {
      "cell_type": "code",
      "metadata": {
        "id": "OXHwmOWB-4Aa",
        "colab": {
          "base_uri": "https://localhost:8080/"
        },
        "outputId": "4de330b4-eef3-4166-fc21-657a8136462b"
      },
      "source": [
        "# Acá probarán su clasificador\n",
        "\n",
        "# inicializamos el clasificador\n",
        "my_clf = MyMultinomialNB(alpha=1)\n",
        "\n",
        "# entrenamos el clasificador para los datos de entrenamiento X_train\n",
        "my_clf.fit(X_train)\n",
        "\n",
        "# acá puedes ver el vocabulario extraído por tu clasificador, \n",
        "# intenta tenerlo guardado en my_clf.vocab\n",
        "print('vocab: ', my_clf.vocab)\n",
        "\n",
        "# si implementaron el método predict_proba en el clasificador (no era obligatorio), \n",
        "# acá lo pueden probar\n",
        "# print('\\nTest probs:')\n",
        "# print('\\n'.join([str(l) for l in my_clf.predict_proba(X_test)]))\n",
        "\n",
        "# obtengamos las predicciones \n",
        "print('\\nTest predictions:')\n",
        "print('\\n'.join(['{} <- {}'.format(c, ' '.join(s)) for c, s in zip(my_clf.predict(X_test), X_test['words'])]))"
      ],
      "execution_count": 112,
      "outputs": [
        {
          "output_type": "stream",
          "text": [
            "vocab:  ['w00', 'w01', 'w02', 'w03', 'w04', 'w05', 'w06', 'w07', 'w08', 'w09']\n",
            "\n",
            "Test predictions:\n",
            "0 <- w02 w09 w06 w01 w05 w04 w03 w03\n",
            "0 <- w03 w03 w04 w05 w01 w06 w09 w02\n"
          ],
          "name": "stdout"
        }
      ]
    },
    {
      "cell_type": "markdown",
      "metadata": {
        "id": "5tDZnmns_1dW"
      },
      "source": [
        "#### 2.4.1. (opcional) Oraciones reales\n",
        "\n",
        "Aquí intentaremos entrenar un clasificador para determinar cuando una oracion en inglés es interrogativa, afirmativa o negativa."
      ]
    },
    {
      "cell_type": "code",
      "metadata": {
        "id": "YCWi3oytd2nf",
        "colab": {
          "base_uri": "https://localhost:8080/"
        },
        "outputId": "8fbf572d-050c-4a46-94b2-84b643f6e3d8"
      },
      "source": [
        "import nltk\n",
        "nltk.download('punkt')\n",
        "from nltk.tokenize import word_tokenize\n",
        "\n",
        "document = namedtuple(\n",
        "    \"document\", (\"words\", \"class_\")  # avoid python's keyword collision\n",
        ")\n",
        "\n",
        "train_set2 = [\n",
        "              ['Do you have plenty of time?', '?'],\n",
        "              ['Does she have enough money?','?'],\n",
        "              ['Did they have any useful advice?','?'],\n",
        "              ['What day is today?','?'],\n",
        "              [\"I don't have much time\",'-'],\n",
        "              [\"She doesn't have any money\",'-'],\n",
        "              [\"They didn't have any advice to offer\",'-'],\n",
        "              ['Have you plenty of time?','?'],\n",
        "              ['Has she enough money?','?'],\n",
        "              ['Had they any useful advice?','?'],\n",
        "              [\"I haven't much time\",'-'],\n",
        "              [\"She hasn't any money\",'-'],\n",
        "              [\"He hadn't any advice to offer\",'-'],\n",
        "              ['How are you?','?'],\n",
        "              ['How do you make questions in English?','?'],\n",
        "              ['How long have you lived here?','?'],\n",
        "              ['How often do you go to the cinema?','?'],\n",
        "              ['How much is this dress?','?'],\n",
        "              ['How old are you?','?'],\n",
        "              ['How many people came to the meeting?','?'],\n",
        "              ['I’m from France','+'],\n",
        "              ['I come from the UK','+'],\n",
        "              ['My phone number is 61709832145','+'],\n",
        "              ['I work as a tour guide for a local tour company','+'],\n",
        "              ['I’m not dating anyone','-'],\n",
        "              ['I live with my wife and children','+'],\n",
        "              ['I often do morning exercises at 6am','+'],\n",
        "              ['I run everyday','+'],\n",
        "              ['She walks very slowly','+'],\n",
        "              ['They eat a lot of meat daily','+'],\n",
        "              ['We were in France that day', '+'],\n",
        "              ['He speaks very fast', '+'],\n",
        "              ['They told us they came back early', '+'],\n",
        "              [\"I told her I'll be there\", '+']\n",
        "]\n",
        "train_set2 = [document(words=tuple(word_tokenize(d[0])), class_=d[1]) for d in train_set2]\n",
        "X_train2 = pd.DataFrame(data=train_set2)\n",
        "print(\"Documentos de entrenamiento:\")\n",
        "print(X_train2)\n",
        "\n",
        "test_set2 = [\n",
        "             ['Do you know who lives here?','?'],\n",
        "             ['What time is it?','?'],\n",
        "             ['Can you tell me where she comes from?','?'],\n",
        "             ['How are you?','?'],\n",
        "             ['I fill good today', '+'],\n",
        "             ['There is a lot of history here','+'],\n",
        "             ['I love programming','+'],\n",
        "             ['He told us not to make so much noise','+'],  # interesing case\n",
        "             ['We were asked not to park in front of the house','+'],  # interesing case\n",
        "             [\"I don't have much time\",'-'],\n",
        "             [\"She doesn't have any money\",'-'],\n",
        "             [\"They didn't have any advice to offer\",'-'],\n",
        "             ['I am not really sure','+']\n",
        "]\n",
        "test_set2 = [document(words=tuple(word_tokenize(d[0])), class_=d[1]) for d in test_set2]\n",
        "X_test2 = pd.DataFrame(data=test_set2)\n",
        "print(\"\\nDocumentos de prueba:\")\n",
        "print(X_test2)"
      ],
      "execution_count": 113,
      "outputs": [
        {
          "output_type": "stream",
          "text": [
            "[nltk_data] Downloading package punkt to /root/nltk_data...\n",
            "[nltk_data]   Package punkt is already up-to-date!\n",
            "Documentos de entrenamiento:\n",
            "                                                words class_\n",
            "0                (Do, you, have, plenty, of, time, ?)      ?\n",
            "1                 (Does, she, have, enough, money, ?)      ?\n",
            "2           (Did, they, have, any, useful, advice, ?)      ?\n",
            "3                           (What, day, is, today, ?)      ?\n",
            "4                      (I, do, n't, have, much, time)      -\n",
            "5                  (She, does, n't, have, any, money)      -\n",
            "6      (They, did, n't, have, any, advice, to, offer)      -\n",
            "7                    (Have, you, plenty, of, time, ?)      ?\n",
            "8                        (Has, she, enough, money, ?)      ?\n",
            "9                 (Had, they, any, useful, advice, ?)      ?\n",
            "10                         (I, have, n't, much, time)      -\n",
            "11                        (She, has, n't, any, money)      -\n",
            "12             (He, had, n't, any, advice, to, offer)      -\n",
            "13                                 (How, are, you, ?)      ?\n",
            "14    (How, do, you, make, questions, in, English, ?)      ?\n",
            "15             (How, long, have, you, lived, here, ?)      ?\n",
            "16      (How, often, do, you, go, to, the, cinema, ?)      ?\n",
            "17                    (How, much, is, this, dress, ?)      ?\n",
            "18                            (How, old, are, you, ?)      ?\n",
            "19     (How, many, people, came, to, the, meeting, ?)      ?\n",
            "20                            (I, ’, m, from, France)      +\n",
            "21                           (I, come, from, the, UK)      +\n",
            "22               (My, phone, number, is, 61709832145)      +\n",
            "23  (I, work, as, a, tour, guide, for, a, local, t...      +\n",
            "24                     (I, ’, m, not, dating, anyone)      -\n",
            "25           (I, live, with, my, wife, and, children)      +\n",
            "26        (I, often, do, morning, exercises, at, 6am)      +\n",
            "27                                 (I, run, everyday)      +\n",
            "28                         (She, walks, very, slowly)      +\n",
            "29               (They, eat, a, lot, of, meat, daily)      +\n",
            "30                  (We, were, in, France, that, day)      +\n",
            "31                           (He, speaks, very, fast)      +\n",
            "32          (They, told, us, they, came, back, early)      +\n",
            "33                  (I, told, her, I, 'll, be, there)      +\n",
            "\n",
            "Documentos de prueba:\n",
            "                                                words class_\n",
            "0                (Do, you, know, who, lives, here, ?)      ?\n",
            "1                             (What, time, is, it, ?)      ?\n",
            "2    (Can, you, tell, me, where, she, comes, from, ?)      ?\n",
            "3                                  (How, are, you, ?)      ?\n",
            "4                              (I, fill, good, today)      +\n",
            "5              (There, is, a, lot, of, history, here)      +\n",
            "6                              (I, love, programming)      +\n",
            "7      (He, told, us, not, to, make, so, much, noise)      +\n",
            "8   (We, were, asked, not, to, park, in, front, of...      +\n",
            "9                      (I, do, n't, have, much, time)      -\n",
            "10                 (She, does, n't, have, any, money)      -\n",
            "11     (They, did, n't, have, any, advice, to, offer)      -\n",
            "12                         (I, am, not, really, sure)      +\n"
          ],
          "name": "stdout"
        }
      ]
    },
    {
      "cell_type": "code",
      "metadata": {
        "id": "6Wdp22w2ArUl",
        "colab": {
          "base_uri": "https://localhost:8080/",
          "height": 231
        },
        "outputId": "1332ecb1-45d2-4ad3-b4d3-e424a1f4761d"
      },
      "source": [
        "# Acá probarán su clasificador y computaremos algunas métricas de evaluacion\n",
        "\n",
        "from sklearn.metrics import classification_report\n",
        "\n",
        "# inicializamos el clasificador\n",
        "my_clf2 = ...\n",
        "\n",
        "# entrenamos el clasificador para los datos de entrenamiento X_train2\n",
        "my_clf2.fit(...)\n",
        "\n",
        "# acá puedes ver el vocabulario extraído por tu clasificador, \n",
        "# intenta tenerlo guardado en my_clf.vocab\n",
        "print('vocab: ', len(my_clf2.vocab), my_clf2.vocab)\n",
        "\n",
        "# si implementaron el método predict_proba en el clasificador (no era obligatorio), \n",
        "# acá lo pueden probar\n",
        "# print('\\nTest probs:')\n",
        "# print('\\n'.join([str(l) for l in my_clf.predict_proba(X_test2)]))\n",
        "\n",
        "# obtengamos las predicciones para X_test2\n",
        "print('\\nTest predictions:')\n",
        "my_y_preds = my_clf2.predict(X_test2)\n",
        "print('\\n'.join(['{} <- {}'.format(c, ' '.join(s)) for c, s in zip(my_y_preds, X_test2['words'])]))\n",
        "print(classification_report(y_true=X_test2['class_'], y_pred=my_y_preds, target_names=['?', '+', '-']))"
      ],
      "execution_count": 114,
      "outputs": [
        {
          "output_type": "error",
          "ename": "AttributeError",
          "evalue": "ignored",
          "traceback": [
            "\u001b[0;31m---------------------------------------------------------------------------\u001b[0m",
            "\u001b[0;31mAttributeError\u001b[0m                            Traceback (most recent call last)",
            "\u001b[0;32m<ipython-input-114-87d2063f80ba>\u001b[0m in \u001b[0;36m<module>\u001b[0;34m()\u001b[0m\n\u001b[1;32m      7\u001b[0m \u001b[0;34m\u001b[0m\u001b[0m\n\u001b[1;32m      8\u001b[0m \u001b[0;31m# entrenamos el clasificador para los datos de entrenamiento X_train2\u001b[0m\u001b[0;34m\u001b[0m\u001b[0;34m\u001b[0m\u001b[0;34m\u001b[0m\u001b[0m\n\u001b[0;32m----> 9\u001b[0;31m \u001b[0mmy_clf2\u001b[0m\u001b[0;34m.\u001b[0m\u001b[0mfit\u001b[0m\u001b[0;34m(\u001b[0m\u001b[0;34m...\u001b[0m\u001b[0;34m)\u001b[0m\u001b[0;34m\u001b[0m\u001b[0;34m\u001b[0m\u001b[0m\n\u001b[0m\u001b[1;32m     10\u001b[0m \u001b[0;34m\u001b[0m\u001b[0m\n\u001b[1;32m     11\u001b[0m \u001b[0;31m# acá puedes ver el vocabulario extraído por tu clasificador,\u001b[0m\u001b[0;34m\u001b[0m\u001b[0;34m\u001b[0m\u001b[0;34m\u001b[0m\u001b[0m\n",
            "\u001b[0;31mAttributeError\u001b[0m: 'ellipsis' object has no attribute 'fit'"
          ]
        }
      ]
    }
  ]
}
